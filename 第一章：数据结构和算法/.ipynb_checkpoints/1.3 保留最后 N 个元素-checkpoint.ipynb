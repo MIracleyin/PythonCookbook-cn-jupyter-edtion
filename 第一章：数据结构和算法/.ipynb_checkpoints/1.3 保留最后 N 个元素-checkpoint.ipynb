{
 "cells": [
  {
   "cell_type": "markdown",
   "metadata": {},
   "source": [
    "## 1.1 解压序列赋值给多个变量\n",
    "\n",
    "### 问题\n",
    "在迭代操作或者其他操作的时候，怎样只保留最后有限几个元素的历史记录？\n",
    "### 解决方案\n",
    "保留有限历史记录正是 collections.deque 大显身手的时候。比如，下面的代码\n",
    "在多行上面做简单的文本匹配，并返回匹配所在行的最后 N 行："
   ]
  },
  {
   "cell_type": "code",
   "execution_count": 14,
   "metadata": {},
   "outputs": [
    {
     "name": "stdout",
     "output_type": "stream",
     "text": [
      "5\n",
      "python\n",
      "____________________\n",
      "6\n",
      "python\n",
      "____________________\n",
      "7\n",
      "python\n",
      "____________________\n",
      "8\n",
      "python\n",
      "____________________\n",
      "9\n",
      "python\n",
      "____________________\n"
     ]
    }
   ],
   "source": [
    "from collections import deque\n",
    "\n",
    "def search(lines, pattern, history=5):\n",
    "    previous_lines = deque(maxlen=history)\n",
    "    for line in lines:\n",
    "        if pattern in line:\n",
    "            yield line, previous_lines\n",
    "        previous_lines.append(line)\n",
    "        \n",
    "if __name__ is '__main__':\n",
    "    with open(r'somefile.txt') as f:\n",
    "        for line,prevlines in search(f, 'python' ,5):\n",
    "            for pline in prevlines:\n",
    "                print(pline, end='')\n",
    "                print(line, end='')\n",
    "                print('_' * 20)"
   ]
  },
  {
   "cell_type": "markdown",
   "metadata": {},
   "source": [
    "### 讨论\n",
    "我们在写查询元素的代码时，通常会使用包含 yield 表达式的生成器函数，也就\n",
    "是我们上面示例代码中的那样。这样可以将搜索过程代码和使用搜索结果代码解耦。如\n",
    "果你还不清楚什么是生成器，请参看 4.3 节。\n",
    "\n",
    "使用 deque(maxlen=N) 构造函数会新建一个固定大小的队列。当新的元素加入并\n",
    "且这个队列已满的时候，最老的元素会自动被移除掉。"
   ]
  },
  {
   "cell_type": "code",
   "execution_count": 15,
   "metadata": {},
   "outputs": [],
   "source": [
    "q = deque(maxlen=3)"
   ]
  },
  {
   "cell_type": "code",
   "execution_count": 18,
   "metadata": {},
   "outputs": [],
   "source": [
    "for i in range(1,4):\n",
    "    q.append(i)"
   ]
  },
  {
   "cell_type": "code",
   "execution_count": 19,
   "metadata": {},
   "outputs": [
    {
     "data": {
      "text/plain": [
       "deque([1, 2, 3])"
      ]
     },
     "execution_count": 19,
     "metadata": {},
     "output_type": "execute_result"
    }
   ],
   "source": [
    "q"
   ]
  },
  {
   "cell_type": "code",
   "execution_count": 20,
   "metadata": {},
   "outputs": [],
   "source": [
    "q.append(4)"
   ]
  },
  {
   "cell_type": "code",
   "execution_count": 21,
   "metadata": {},
   "outputs": [
    {
     "data": {
      "text/plain": [
       "deque([2, 3, 4])"
      ]
     },
     "execution_count": 21,
     "metadata": {},
     "output_type": "execute_result"
    }
   ],
   "source": [
    "q"
   ]
  },
  {
   "cell_type": "markdown",
   "metadata": {},
   "source": [
    "尽管你也可以手动在一个列表上实现这一的操作（比如增加、删除等等）。但是这\n",
    "里的队列方案会更加优雅并且运行得更快些。\n",
    "\n",
    "更一般的，deque 类可以被用在任何你只需要一个简单队列数据结构的场合。如果\n",
    "你不设置最大队列大小，那么就会得到一个无限大小队列，你可以在队列的两端执行添\n",
    "加和弹出元素的操作。"
   ]
  },
  {
   "cell_type": "code",
   "execution_count": 31,
   "metadata": {},
   "outputs": [],
   "source": [
    "q = deque()\n",
    "for i in range(1,4):\n",
    "    q.append(i)"
   ]
  },
  {
   "cell_type": "code",
   "execution_count": 32,
   "metadata": {},
   "outputs": [
    {
     "data": {
      "text/plain": [
       "deque([1, 2, 3])"
      ]
     },
     "execution_count": 32,
     "metadata": {},
     "output_type": "execute_result"
    }
   ],
   "source": [
    "q"
   ]
  },
  {
   "cell_type": "code",
   "execution_count": 33,
   "metadata": {},
   "outputs": [],
   "source": [
    "q.appendleft(4)"
   ]
  },
  {
   "cell_type": "code",
   "execution_count": 34,
   "metadata": {},
   "outputs": [
    {
     "data": {
      "text/plain": [
       "deque([4, 1, 2, 3])"
      ]
     },
     "execution_count": 34,
     "metadata": {},
     "output_type": "execute_result"
    }
   ],
   "source": [
    "q"
   ]
  },
  {
   "cell_type": "code",
   "execution_count": 35,
   "metadata": {},
   "outputs": [
    {
     "data": {
      "text/plain": [
       "3"
      ]
     },
     "execution_count": 35,
     "metadata": {},
     "output_type": "execute_result"
    }
   ],
   "source": [
    "q.pop()"
   ]
  },
  {
   "cell_type": "code",
   "execution_count": 36,
   "metadata": {},
   "outputs": [
    {
     "data": {
      "text/plain": [
       "deque([4, 1, 2])"
      ]
     },
     "execution_count": 36,
     "metadata": {},
     "output_type": "execute_result"
    }
   ],
   "source": [
    "q"
   ]
  },
  {
   "cell_type": "code",
   "execution_count": 37,
   "metadata": {},
   "outputs": [
    {
     "data": {
      "text/plain": [
       "4"
      ]
     },
     "execution_count": 37,
     "metadata": {},
     "output_type": "execute_result"
    }
   ],
   "source": [
    "q.popleft()"
   ]
  },
  {
   "cell_type": "code",
   "execution_count": 38,
   "metadata": {},
   "outputs": [
    {
     "data": {
      "text/plain": [
       "deque([1, 2])"
      ]
     },
     "execution_count": 38,
     "metadata": {},
     "output_type": "execute_result"
    }
   ],
   "source": [
    "q"
   ]
  },
  {
   "cell_type": "markdown",
   "metadata": {},
   "source": [
    "在队列两端插入或删除元素时间复杂度都是 O(1) ，而在列表的开头插入或删除元\n",
    "素的时间复杂度为 O(N) 。"
   ]
  },
  {
   "cell_type": "code",
   "execution_count": null,
   "metadata": {},
   "outputs": [],
   "source": []
  }
 ],
 "metadata": {
  "kernelspec": {
   "display_name": "Python 3",
   "language": "python",
   "name": "python3"
  },
  "language_info": {
   "codemirror_mode": {
    "name": "ipython",
    "version": 3
   },
   "file_extension": ".py",
   "mimetype": "text/x-python",
   "name": "python",
   "nbconvert_exporter": "python",
   "pygments_lexer": "ipython3",
   "version": "3.6.2"
  }
 },
 "nbformat": 4,
 "nbformat_minor": 2
}
